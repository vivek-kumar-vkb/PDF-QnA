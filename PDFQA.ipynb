{
 "cells": [
  {
   "cell_type": "markdown",
   "id": "bed69eaf",
   "metadata": {},
   "source": [
    "Let's first install all the projects needed for this program.\n",
    "\n",
    "DISCLAIMER:\n",
    "In the future if you encounter any error due to packages try updating the package using 'pip' as these packages may not be compatible in your system\n"
   ]
  },
  {
   "cell_type": "code",
   "execution_count": 32,
   "id": "b4fe3ca1",
   "metadata": {},
   "outputs": [
    {
     "name": "stdout",
     "output_type": "stream",
     "text": [
      "Collecting langchain==0.0.189\n",
      "  Downloading langchain-0.0.189-py3-none-any.whl (975 kB)\n",
      "     ------------------------------------ 975.6/975.6 kB 605.6 kB/s eta 0:00:00\n",
      "Requirement already satisfied: numexpr<3.0.0,>=2.8.4 in c:\\users\\user\\anaconda3\\lib\\site-packages (from langchain==0.0.189) (2.8.4)\n",
      "Collecting openapi-schema-pydantic<2.0,>=1.2\n",
      "  Downloading openapi_schema_pydantic-1.2.4-py3-none-any.whl (90 kB)\n",
      "     -------------------------------------- 90.0/90.0 kB 393.0 kB/s eta 0:00:00\n",
      "Requirement already satisfied: async-timeout<5.0.0,>=4.0.0 in c:\\users\\user\\anaconda3\\lib\\site-packages (from langchain==0.0.189) (4.0.3)\n",
      "Requirement already satisfied: aiohttp<4.0.0,>=3.8.3 in c:\\users\\user\\anaconda3\\lib\\site-packages (from langchain==0.0.189) (3.9.1)\n",
      "Requirement already satisfied: SQLAlchemy<3,>=1.4 in c:\\users\\user\\anaconda3\\lib\\site-packages (from langchain==0.0.189) (1.4.39)\n",
      "Requirement already satisfied: numpy<2,>=1 in c:\\users\\user\\anaconda3\\lib\\site-packages (from langchain==0.0.189) (1.23.5)\n",
      "Requirement already satisfied: PyYAML>=5.4.1 in c:\\users\\user\\anaconda3\\lib\\site-packages (from langchain==0.0.189) (6.0)\n",
      "Collecting pydantic<2,>=1\n",
      "  Downloading pydantic-1.10.14-cp310-cp310-win_amd64.whl (2.1 MB)\n",
      "     ---------------------------------------- 2.1/2.1 MB 528.6 kB/s eta 0:00:00\n",
      "Requirement already satisfied: requests<3,>=2 in c:\\users\\user\\anaconda3\\lib\\site-packages (from langchain==0.0.189) (2.28.1)\n",
      "Requirement already satisfied: tenacity<9.0.0,>=8.1.0 in c:\\users\\user\\anaconda3\\lib\\site-packages (from langchain==0.0.189) (8.2.3)\n",
      "Collecting dataclasses-json<0.6.0,>=0.5.7\n",
      "  Downloading dataclasses_json-0.5.14-py3-none-any.whl (26 kB)\n",
      "Requirement already satisfied: yarl<2.0,>=1.0 in c:\\users\\user\\anaconda3\\lib\\site-packages (from aiohttp<4.0.0,>=3.8.3->langchain==0.0.189) (1.9.4)\n",
      "Requirement already satisfied: multidict<7.0,>=4.5 in c:\\users\\user\\anaconda3\\lib\\site-packages (from aiohttp<4.0.0,>=3.8.3->langchain==0.0.189) (6.0.4)\n",
      "Requirement already satisfied: aiosignal>=1.1.2 in c:\\users\\user\\anaconda3\\lib\\site-packages (from aiohttp<4.0.0,>=3.8.3->langchain==0.0.189) (1.3.1)\n",
      "Requirement already satisfied: frozenlist>=1.1.1 in c:\\users\\user\\anaconda3\\lib\\site-packages (from aiohttp<4.0.0,>=3.8.3->langchain==0.0.189) (1.4.1)\n",
      "Requirement already satisfied: attrs>=17.3.0 in c:\\users\\user\\anaconda3\\lib\\site-packages (from aiohttp<4.0.0,>=3.8.3->langchain==0.0.189) (22.1.0)\n",
      "Requirement already satisfied: typing-inspect<1,>=0.4.0 in c:\\users\\user\\anaconda3\\lib\\site-packages (from dataclasses-json<0.6.0,>=0.5.7->langchain==0.0.189) (0.9.0)\n",
      "Requirement already satisfied: marshmallow<4.0.0,>=3.18.0 in c:\\users\\user\\anaconda3\\lib\\site-packages (from dataclasses-json<0.6.0,>=0.5.7->langchain==0.0.189) (3.20.2)\n",
      "Requirement already satisfied: typing-extensions>=4.2.0 in c:\\users\\user\\anaconda3\\lib\\site-packages (from pydantic<2,>=1->langchain==0.0.189) (4.9.0)\n",
      "Requirement already satisfied: idna<4,>=2.5 in c:\\users\\user\\anaconda3\\lib\\site-packages (from requests<3,>=2->langchain==0.0.189) (2.10)\n",
      "Requirement already satisfied: certifi>=2017.4.17 in c:\\users\\user\\anaconda3\\lib\\site-packages (from requests<3,>=2->langchain==0.0.189) (2022.12.7)\n",
      "Requirement already satisfied: urllib3<1.27,>=1.21.1 in c:\\users\\user\\anaconda3\\lib\\site-packages (from requests<3,>=2->langchain==0.0.189) (1.26.14)\n",
      "Requirement already satisfied: charset-normalizer<3,>=2 in c:\\users\\user\\anaconda3\\lib\\site-packages (from requests<3,>=2->langchain==0.0.189) (2.0.4)\n",
      "Requirement already satisfied: greenlet!=0.4.17 in c:\\users\\user\\anaconda3\\lib\\site-packages (from SQLAlchemy<3,>=1.4->langchain==0.0.189) (2.0.1)\n",
      "Requirement already satisfied: packaging>=17.0 in c:\\users\\user\\anaconda3\\lib\\site-packages (from marshmallow<4.0.0,>=3.18.0->dataclasses-json<0.6.0,>=0.5.7->langchain==0.0.189) (23.2)\n",
      "Requirement already satisfied: mypy-extensions>=0.3.0 in c:\\users\\user\\anaconda3\\lib\\site-packages (from typing-inspect<1,>=0.4.0->dataclasses-json<0.6.0,>=0.5.7->langchain==0.0.189) (0.4.3)\n",
      "Installing collected packages: pydantic, openapi-schema-pydantic, dataclasses-json, langchain\n",
      "  Attempting uninstall: pydantic\n",
      "    Found existing installation: pydantic 2.5.3\n",
      "    Uninstalling pydantic-2.5.3:\n",
      "      Successfully uninstalled pydantic-2.5.3\n",
      "  Attempting uninstall: dataclasses-json\n",
      "    Found existing installation: dataclasses-json 0.6.3\n",
      "    Uninstalling dataclasses-json-0.6.3:\n",
      "      Successfully uninstalled dataclasses-json-0.6.3\n",
      "  Attempting uninstall: langchain\n",
      "    Found existing installation: langchain 0.0.317\n",
      "    Uninstalling langchain-0.0.317:\n",
      "      Successfully uninstalled langchain-0.0.317\n",
      "Successfully installed dataclasses-json-0.5.14 langchain-0.0.189 openapi-schema-pydantic-1.2.4 pydantic-1.10.14\n",
      "Collecting chromadb==0.3.25\n",
      "  Using cached chromadb-0.3.25-py3-none-any.whl (86 kB)\n",
      "Requirement already satisfied: tokenizers>=0.13.2 in c:\\users\\user\\anaconda3\\lib\\site-packages (from chromadb==0.3.25) (0.15.1)\n",
      "Requirement already satisfied: onnxruntime>=1.14.1 in c:\\users\\user\\anaconda3\\lib\\site-packages (from chromadb==0.3.25) (1.17.0)\n",
      "Requirement already satisfied: tqdm>=4.65.0 in c:\\users\\user\\anaconda3\\lib\\site-packages (from chromadb==0.3.25) (4.66.1)\n",
      "Requirement already satisfied: pydantic>=1.9 in c:\\users\\user\\anaconda3\\lib\\site-packages (from chromadb==0.3.25) (1.10.14)\n",
      "Requirement already satisfied: requests>=2.28 in c:\\users\\user\\anaconda3\\lib\\site-packages (from chromadb==0.3.25) (2.28.1)\n",
      "Collecting clickhouse-connect>=0.5.7\n",
      "  Using cached clickhouse_connect-0.7.0-cp310-cp310-win_amd64.whl (229 kB)\n",
      "Requirement already satisfied: posthog>=2.4.0 in c:\\users\\user\\anaconda3\\lib\\site-packages (from chromadb==0.3.25) (3.3.4)\n",
      "Requirement already satisfied: overrides>=7.3.1 in c:\\users\\user\\anaconda3\\lib\\site-packages (from chromadb==0.3.25) (7.7.0)\n",
      "Collecting hnswlib>=0.7\n",
      "  Using cached hnswlib-0.8.0.tar.gz (36 kB)\n",
      "  Installing build dependencies: started\n",
      "  Installing build dependencies: still running...\n",
      "  Installing build dependencies: finished with status 'done'\n",
      "  Getting requirements to build wheel: started\n",
      "  Getting requirements to build wheel: finished with status 'done'\n",
      "  Preparing metadata (pyproject.toml): started\n",
      "  Preparing metadata (pyproject.toml): finished with status 'done'\n",
      "Requirement already satisfied: uvicorn[standard]>=0.18.3 in c:\\users\\user\\anaconda3\\lib\\site-packages (from chromadb==0.3.25) (0.27.0.post1)\n",
      "Requirement already satisfied: typing-extensions>=4.5.0 in c:\\users\\user\\anaconda3\\lib\\site-packages (from chromadb==0.3.25) (4.9.0)\n",
      "Requirement already satisfied: fastapi>=0.85.1 in c:\\users\\user\\anaconda3\\lib\\site-packages (from chromadb==0.3.25) (0.109.1)\n",
      "Requirement already satisfied: pandas>=1.3 in c:\\users\\user\\anaconda3\\lib\\site-packages (from chromadb==0.3.25) (1.5.3)\n",
      "Collecting duckdb>=0.7.1\n",
      "  Using cached duckdb-0.9.2-cp310-cp310-win_amd64.whl (10.3 MB)\n",
      "Requirement already satisfied: numpy>=1.21.6 in c:\\users\\user\\anaconda3\\lib\\site-packages (from chromadb==0.3.25) (1.23.5)\n",
      "Requirement already satisfied: urllib3>=1.26 in c:\\users\\user\\anaconda3\\lib\\site-packages (from clickhouse-connect>=0.5.7->chromadb==0.3.25) (1.26.14)\n",
      "Requirement already satisfied: pytz in c:\\users\\user\\anaconda3\\lib\\site-packages (from clickhouse-connect>=0.5.7->chromadb==0.3.25) (2022.7)\n",
      "Requirement already satisfied: lz4 in c:\\users\\user\\anaconda3\\lib\\site-packages (from clickhouse-connect>=0.5.7->chromadb==0.3.25) (3.1.3)\n",
      "Requirement already satisfied: certifi in c:\\users\\user\\anaconda3\\lib\\site-packages (from clickhouse-connect>=0.5.7->chromadb==0.3.25) (2022.12.7)\n",
      "Requirement already satisfied: zstandard in c:\\users\\user\\anaconda3\\lib\\site-packages (from clickhouse-connect>=0.5.7->chromadb==0.3.25) (0.19.0)\n",
      "Requirement already satisfied: starlette<0.36.0,>=0.35.0 in c:\\users\\user\\anaconda3\\lib\\site-packages (from fastapi>=0.85.1->chromadb==0.3.25) (0.35.1)\n",
      "Requirement already satisfied: protobuf in c:\\users\\user\\anaconda3\\lib\\site-packages (from onnxruntime>=1.14.1->chromadb==0.3.25) (4.25.2)\n",
      "Requirement already satisfied: coloredlogs in c:\\users\\user\\anaconda3\\lib\\site-packages (from onnxruntime>=1.14.1->chromadb==0.3.25) (15.0.1)\n",
      "Requirement already satisfied: sympy in c:\\users\\user\\anaconda3\\lib\\site-packages (from onnxruntime>=1.14.1->chromadb==0.3.25) (1.11.1)\n",
      "Requirement already satisfied: flatbuffers in c:\\users\\user\\anaconda3\\lib\\site-packages (from onnxruntime>=1.14.1->chromadb==0.3.25) (23.5.26)\n",
      "Requirement already satisfied: packaging in c:\\users\\user\\anaconda3\\lib\\site-packages (from onnxruntime>=1.14.1->chromadb==0.3.25) (23.2)\n",
      "Requirement already satisfied: python-dateutil>=2.8.1 in c:\\users\\user\\anaconda3\\lib\\site-packages (from pandas>=1.3->chromadb==0.3.25) (2.8.2)\n",
      "Requirement already satisfied: monotonic>=1.5 in c:\\users\\user\\anaconda3\\lib\\site-packages (from posthog>=2.4.0->chromadb==0.3.25) (1.6)\n",
      "Requirement already satisfied: six>=1.5 in c:\\users\\user\\anaconda3\\lib\\site-packages (from posthog>=2.4.0->chromadb==0.3.25) (1.16.0)\n",
      "Requirement already satisfied: backoff>=1.10.0 in c:\\users\\user\\anaconda3\\lib\\site-packages (from posthog>=2.4.0->chromadb==0.3.25) (2.2.1)\n",
      "Requirement already satisfied: idna<4,>=2.5 in c:\\users\\user\\anaconda3\\lib\\site-packages (from requests>=2.28->chromadb==0.3.25) (2.10)\n",
      "Requirement already satisfied: charset-normalizer<3,>=2 in c:\\users\\user\\anaconda3\\lib\\site-packages (from requests>=2.28->chromadb==0.3.25) (2.0.4)\n",
      "Requirement already satisfied: huggingface_hub<1.0,>=0.16.4 in c:\\users\\user\\anaconda3\\lib\\site-packages (from tokenizers>=0.13.2->chromadb==0.3.25) (0.20.3)\n",
      "Requirement already satisfied: colorama in c:\\users\\user\\anaconda3\\lib\\site-packages (from tqdm>=4.65.0->chromadb==0.3.25) (0.4.6)\n",
      "Requirement already satisfied: click>=7.0 in c:\\users\\user\\anaconda3\\lib\\site-packages (from uvicorn[standard]>=0.18.3->chromadb==0.3.25) (8.0.4)\n",
      "Requirement already satisfied: h11>=0.8 in c:\\users\\user\\anaconda3\\lib\\site-packages (from uvicorn[standard]>=0.18.3->chromadb==0.3.25) (0.14.0)\n",
      "Requirement already satisfied: websockets>=10.4 in c:\\users\\user\\anaconda3\\lib\\site-packages (from uvicorn[standard]>=0.18.3->chromadb==0.3.25) (12.0)\n",
      "Requirement already satisfied: python-dotenv>=0.13 in c:\\users\\user\\anaconda3\\lib\\site-packages (from uvicorn[standard]>=0.18.3->chromadb==0.3.25) (1.0.1)\n",
      "Requirement already satisfied: watchfiles>=0.13 in c:\\users\\user\\anaconda3\\lib\\site-packages (from uvicorn[standard]>=0.18.3->chromadb==0.3.25) (0.21.0)\n",
      "Requirement already satisfied: httptools>=0.5.0 in c:\\users\\user\\anaconda3\\lib\\site-packages (from uvicorn[standard]>=0.18.3->chromadb==0.3.25) (0.6.1)\n",
      "Requirement already satisfied: pyyaml>=5.1 in c:\\users\\user\\anaconda3\\lib\\site-packages (from uvicorn[standard]>=0.18.3->chromadb==0.3.25) (6.0)\n",
      "Requirement already satisfied: filelock in c:\\users\\user\\anaconda3\\lib\\site-packages (from huggingface_hub<1.0,>=0.16.4->tokenizers>=0.13.2->chromadb==0.3.25) (3.9.0)\n",
      "Requirement already satisfied: fsspec>=2023.5.0 in c:\\users\\user\\anaconda3\\lib\\site-packages (from huggingface_hub<1.0,>=0.16.4->tokenizers>=0.13.2->chromadb==0.3.25) (2023.12.2)\n",
      "Requirement already satisfied: anyio<5,>=3.4.0 in c:\\users\\user\\anaconda3\\lib\\site-packages (from starlette<0.36.0,>=0.35.0->fastapi>=0.85.1->chromadb==0.3.25) (3.5.0)\n",
      "Requirement already satisfied: humanfriendly>=9.1 in c:\\users\\user\\anaconda3\\lib\\site-packages (from coloredlogs->onnxruntime>=1.14.1->chromadb==0.3.25) (10.0)\n",
      "Requirement already satisfied: mpmath>=0.19 in c:\\users\\user\\anaconda3\\lib\\site-packages (from sympy->onnxruntime>=1.14.1->chromadb==0.3.25) (1.2.1)\n",
      "Requirement already satisfied: sniffio>=1.1 in c:\\users\\user\\anaconda3\\lib\\site-packages (from anyio<5,>=3.4.0->starlette<0.36.0,>=0.35.0->fastapi>=0.85.1->chromadb==0.3.25) (1.2.0)\n",
      "Requirement already satisfied: pyreadline3 in c:\\users\\user\\anaconda3\\lib\\site-packages (from humanfriendly>=9.1->coloredlogs->onnxruntime>=1.14.1->chromadb==0.3.25) (3.4.1)\n",
      "Building wheels for collected packages: hnswlib\n",
      "  Building wheel for hnswlib (pyproject.toml): started\n",
      "  Building wheel for hnswlib (pyproject.toml): finished with status 'error'\n",
      "Failed to build hnswlib\n"
     ]
    },
    {
     "name": "stderr",
     "output_type": "stream",
     "text": [
      "  error: subprocess-exited-with-error\n",
      "  \n",
      "  Building wheel for hnswlib (pyproject.toml) did not run successfully.\n",
      "  exit code: 1\n",
      "  \n",
      "  [5 lines of output]\n",
      "  running bdist_wheel\n",
      "  running build\n",
      "  running build_ext\n",
      "  building 'hnswlib' extension\n",
      "  error: Microsoft Visual C++ 14.0 or greater is required. Get it with \"Microsoft C++ Build Tools\": https://visualstudio.microsoft.com/visual-cpp-build-tools/\n",
      "  [end of output]\n",
      "  \n",
      "  note: This error originates from a subprocess, and is likely not a problem with pip.\n",
      "  ERROR: Failed building wheel for hnswlib\n",
      "ERROR: Could not build wheels for hnswlib, which is required to install pyproject.toml-based projects\n"
     ]
    },
    {
     "name": "stdout",
     "output_type": "stream",
     "text": [
      "Collecting pdfplumber==0.9.0\n",
      "  Downloading pdfplumber-0.9.0-py3-none-any.whl (46 kB)\n",
      "     -------------------------------------- 46.1/46.1 kB 286.7 kB/s eta 0:00:00\n",
      "Requirement already satisfied: pdfminer.six==20221105 in c:\\users\\user\\anaconda3\\lib\\site-packages (from pdfplumber==0.9.0) (20221105)\n",
      "Collecting Wand>=0.6.10\n",
      "  Downloading Wand-0.6.13-py2.py3-none-any.whl (143 kB)\n",
      "     ------------------------------------ 143.8/143.8 kB 231.1 kB/s eta 0:00:00\n",
      "Requirement already satisfied: Pillow>=9.1 in c:\\users\\user\\anaconda3\\lib\\site-packages (from pdfplumber==0.9.0) (9.4.0)\n",
      "Requirement already satisfied: cryptography>=36.0.0 in c:\\users\\user\\anaconda3\\lib\\site-packages (from pdfminer.six==20221105->pdfplumber==0.9.0) (39.0.1)\n",
      "Requirement already satisfied: charset-normalizer>=2.0.0 in c:\\users\\user\\anaconda3\\lib\\site-packages (from pdfminer.six==20221105->pdfplumber==0.9.0) (2.0.4)\n",
      "Requirement already satisfied: cffi>=1.12 in c:\\users\\user\\anaconda3\\lib\\site-packages (from cryptography>=36.0.0->pdfminer.six==20221105->pdfplumber==0.9.0) (1.15.1)\n",
      "Requirement already satisfied: pycparser in c:\\users\\user\\anaconda3\\lib\\site-packages (from cffi>=1.12->cryptography>=36.0.0->pdfminer.six==20221105->pdfplumber==0.9.0) (2.21)\n",
      "Installing collected packages: Wand, pdfplumber\n",
      "  Attempting uninstall: pdfplumber\n",
      "    Found existing installation: pdfplumber 0.10.3\n",
      "    Uninstalling pdfplumber-0.10.3:\n",
      "      Successfully uninstalled pdfplumber-0.10.3\n",
      "Successfully installed Wand-0.6.13 pdfplumber-0.9.0\n",
      "Collecting tiktoken==0.4.0\n",
      "  Downloading tiktoken-0.4.0-cp310-cp310-win_amd64.whl (635 kB)\n",
      "     ------------------------------------ 635.3/635.3 kB 519.6 kB/s eta 0:00:00\n",
      "Requirement already satisfied: requests>=2.26.0 in c:\\users\\user\\anaconda3\\lib\\site-packages (from tiktoken==0.4.0) (2.28.1)\n",
      "Requirement already satisfied: regex>=2022.1.18 in c:\\users\\user\\anaconda3\\lib\\site-packages (from tiktoken==0.4.0) (2022.7.9)\n",
      "Requirement already satisfied: charset-normalizer<3,>=2 in c:\\users\\user\\anaconda3\\lib\\site-packages (from requests>=2.26.0->tiktoken==0.4.0) (2.0.4)\n",
      "Requirement already satisfied: certifi>=2017.4.17 in c:\\users\\user\\anaconda3\\lib\\site-packages (from requests>=2.26.0->tiktoken==0.4.0) (2022.12.7)\n",
      "Requirement already satisfied: idna<4,>=2.5 in c:\\users\\user\\anaconda3\\lib\\site-packages (from requests>=2.26.0->tiktoken==0.4.0) (2.10)\n",
      "Requirement already satisfied: urllib3<1.27,>=1.21.1 in c:\\users\\user\\anaconda3\\lib\\site-packages (from requests>=2.26.0->tiktoken==0.4.0) (1.26.14)\n",
      "Installing collected packages: tiktoken\n",
      "  Attempting uninstall: tiktoken\n",
      "    Found existing installation: tiktoken 0.5.2\n",
      "    Uninstalling tiktoken-0.5.2:\n",
      "      Successfully uninstalled tiktoken-0.5.2\n"
     ]
    },
    {
     "name": "stderr",
     "output_type": "stream",
     "text": [
      "ERROR: Could not install packages due to an OSError: [WinError 5] Access is denied: 'C:\\\\Users\\\\User\\\\anaconda3\\\\Lib\\\\site-packages\\\\~iktoken\\\\_tiktoken.cp310-win_amd64.pyd'\n",
      "Consider using the `--user` option or check the permissions.\n",
      "\n"
     ]
    },
    {
     "name": "stdout",
     "output_type": "stream",
     "text": [
      "Collecting lxml==4.9.2"
     ]
    },
    {
     "name": "stderr",
     "output_type": "stream",
     "text": [
      "ERROR: Could not install packages due to an OSError: [WinError 5] Access is denied: 'C:\\\\Users\\\\User\\\\anaconda3\\\\Lib\\\\site-packages\\\\~xml\\\\etree.cp310-win_amd64.pyd'\n",
      "Consider using the `--user` option or check the permissions.\n",
      "\n"
     ]
    },
    {
     "name": "stdout",
     "output_type": "stream",
     "text": [
      "\n",
      "  Downloading lxml-4.9.2-cp310-cp310-win_amd64.whl (3.8 MB)\n",
      "     ---------------------------------------- 3.8/3.8 MB 1.8 MB/s eta 0:00:00\n",
      "Installing collected packages: lxml\n",
      "  Attempting uninstall: lxml\n",
      "    Found existing installation: lxml 4.9.1\n",
      "    Uninstalling lxml-4.9.1:\n",
      "      Successfully uninstalled lxml-4.9.1\n",
      "Collecting torch==2.0.1"
     ]
    },
    {
     "name": "stderr",
     "output_type": "stream",
     "text": [
      "ERROR: Could not install packages due to an OSError: [WinError 5] Access is denied: 'C:\\\\Users\\\\User\\\\AppData\\\\Local\\\\Temp\\\\pip-uninstall-47wjximz\\\\lib\\\\asmjit.dll'\n",
      "Consider using the `--user` option or check the permissions.\n",
      "\n"
     ]
    },
    {
     "name": "stdout",
     "output_type": "stream",
     "text": [
      "\n",
      "  Downloading torch-2.0.1-cp310-cp310-win_amd64.whl (172.3 MB)\n",
      "     ------------------------------------ 172.3/172.3 MB 305.0 kB/s eta 0:00:00\n",
      "Requirement already satisfied: filelock in c:\\users\\user\\anaconda3\\lib\\site-packages (from torch==2.0.1) (3.9.0)\n",
      "Requirement already satisfied: sympy in c:\\users\\user\\anaconda3\\lib\\site-packages (from torch==2.0.1) (1.11.1)\n",
      "Requirement already satisfied: typing-extensions in c:\\users\\user\\anaconda3\\lib\\site-packages (from torch==2.0.1) (4.9.0)\n",
      "Requirement already satisfied: jinja2 in c:\\users\\user\\anaconda3\\lib\\site-packages (from torch==2.0.1) (3.1.2)\n",
      "Requirement already satisfied: networkx in c:\\users\\user\\anaconda3\\lib\\site-packages (from torch==2.0.1) (2.8.4)\n",
      "Requirement already satisfied: MarkupSafe>=2.0 in c:\\users\\user\\anaconda3\\lib\\site-packages (from jinja2->torch==2.0.1) (2.1.1)\n",
      "Requirement already satisfied: mpmath>=0.19 in c:\\users\\user\\anaconda3\\lib\\site-packages (from sympy->torch==2.0.1) (1.2.1)\n",
      "Installing collected packages: torch\n",
      "  Attempting uninstall: torch\n",
      "    Found existing installation: torch 1.12.1\n",
      "    Uninstalling torch-1.12.1:\n",
      "      Successfully uninstalled torch-1.12.1\n",
      "Collecting transformers==4.29.2"
     ]
    },
    {
     "name": "stderr",
     "output_type": "stream",
     "text": [
      "ERROR: Could not install packages due to an OSError: [WinError 5] Access is denied: 'C:\\\\Users\\\\User\\\\anaconda3\\\\Lib\\\\site-packages\\\\~-kenizers\\\\tokenizers.cp310-win_amd64.pyd'\n",
      "Consider using the `--user` option or check the permissions.\n",
      "\n"
     ]
    },
    {
     "name": "stdout",
     "output_type": "stream",
     "text": [
      "\n",
      "  Downloading transformers-4.29.2-py3-none-any.whl (7.1 MB)\n",
      "     ---------------------------------------- 7.1/7.1 MB 665.7 kB/s eta 0:00:00\n",
      "Requirement already satisfied: huggingface-hub<1.0,>=0.14.1 in c:\\users\\user\\anaconda3\\lib\\site-packages (from transformers==4.29.2) (0.20.3)\n",
      "Requirement already satisfied: requests in c:\\users\\user\\anaconda3\\lib\\site-packages (from transformers==4.29.2) (2.28.1)\n",
      "Requirement already satisfied: filelock in c:\\users\\user\\anaconda3\\lib\\site-packages (from transformers==4.29.2) (3.9.0)\n",
      "Requirement already satisfied: numpy>=1.17 in c:\\users\\user\\anaconda3\\lib\\site-packages (from transformers==4.29.2) (1.23.5)\n",
      "Requirement already satisfied: packaging>=20.0 in c:\\users\\user\\anaconda3\\lib\\site-packages (from transformers==4.29.2) (23.2)\n",
      "Requirement already satisfied: tqdm>=4.27 in c:\\users\\user\\anaconda3\\lib\\site-packages (from transformers==4.29.2) (4.66.1)\n",
      "Requirement already satisfied: pyyaml>=5.1 in c:\\users\\user\\anaconda3\\lib\\site-packages (from transformers==4.29.2) (6.0)\n",
      "Collecting tokenizers!=0.11.3,<0.14,>=0.11.1\n",
      "  Downloading tokenizers-0.13.3-cp310-cp310-win_amd64.whl (3.5 MB)\n",
      "     ---------------------------------------- 3.5/3.5 MB 1.1 MB/s eta 0:00:00\n",
      "Requirement already satisfied: regex!=2019.12.17 in c:\\users\\user\\anaconda3\\lib\\site-packages (from transformers==4.29.2) (2022.7.9)\n",
      "Requirement already satisfied: typing-extensions>=3.7.4.3 in c:\\users\\user\\anaconda3\\lib\\site-packages (from huggingface-hub<1.0,>=0.14.1->transformers==4.29.2) (4.9.0)\n",
      "Requirement already satisfied: fsspec>=2023.5.0 in c:\\users\\user\\anaconda3\\lib\\site-packages (from huggingface-hub<1.0,>=0.14.1->transformers==4.29.2) (2023.12.2)\n",
      "Requirement already satisfied: colorama in c:\\users\\user\\anaconda3\\lib\\site-packages (from tqdm>=4.27->transformers==4.29.2) (0.4.6)\n",
      "Requirement already satisfied: idna<4,>=2.5 in c:\\users\\user\\anaconda3\\lib\\site-packages (from requests->transformers==4.29.2) (2.10)\n",
      "Requirement already satisfied: urllib3<1.27,>=1.21.1 in c:\\users\\user\\anaconda3\\lib\\site-packages (from requests->transformers==4.29.2) (1.26.14)\n",
      "Requirement already satisfied: charset-normalizer<3,>=2 in c:\\users\\user\\anaconda3\\lib\\site-packages (from requests->transformers==4.29.2) (2.0.4)\n",
      "Requirement already satisfied: certifi>=2017.4.17 in c:\\users\\user\\anaconda3\\lib\\site-packages (from requests->transformers==4.29.2) (2022.12.7)\n",
      "Installing collected packages: tokenizers, transformers\n",
      "  Attempting uninstall: tokenizers\n",
      "    Found existing installation: tokenizers 0.15.1\n",
      "    Uninstalling tokenizers-0.15.1:\n",
      "      Successfully uninstalled tokenizers-0.15.1\n",
      "Requirement already satisfied: accelerate==0.19.0 in c:\\users\\user\\anaconda3\\lib\\site-packages (0.19.0)\n",
      "Requirement already satisfied: torch>=1.6.0 in c:\\users\\user\\anaconda3\\lib\\site-packages (from accelerate==0.19.0) (2.0.1)\n",
      "Requirement already satisfied: numpy>=1.17 in c:\\users\\user\\anaconda3\\lib\\site-packages (from accelerate==0.19.0) (1.23.5)\n",
      "Requirement already satisfied: psutil in c:\\users\\user\\anaconda3\\lib\\site-packages (from accelerate==0.19.0) (5.9.0)\n",
      "Requirement already satisfied: pyyaml in c:\\users\\user\\anaconda3\\lib\\site-packages (from accelerate==0.19.0) (6.0)\n",
      "Requirement already satisfied: packaging>=20.0 in c:\\users\\user\\anaconda3\\lib\\site-packages (from accelerate==0.19.0) (23.2)\n",
      "Requirement already satisfied: typing-extensions in c:\\users\\user\\anaconda3\\lib\\site-packages (from torch>=1.6.0->accelerate==0.19.0) (4.9.0)\n",
      "Requirement already satisfied: sympy in c:\\users\\user\\anaconda3\\lib\\site-packages (from torch>=1.6.0->accelerate==0.19.0) (1.11.1)\n",
      "Requirement already satisfied: jinja2 in c:\\users\\user\\anaconda3\\lib\\site-packages (from torch>=1.6.0->accelerate==0.19.0) (3.1.2)\n",
      "Requirement already satisfied: filelock in c:\\users\\user\\anaconda3\\lib\\site-packages (from torch>=1.6.0->accelerate==0.19.0) (3.9.0)\n",
      "Requirement already satisfied: networkx in c:\\users\\user\\anaconda3\\lib\\site-packages (from torch>=1.6.0->accelerate==0.19.0) (2.8.4)\n",
      "Requirement already satisfied: MarkupSafe>=2.0 in c:\\users\\user\\anaconda3\\lib\\site-packages (from jinja2->torch>=1.6.0->accelerate==0.19.0) (2.1.1)\n",
      "Requirement already satisfied: mpmath>=0.19 in c:\\users\\user\\anaconda3\\lib\\site-packages (from sympy->torch>=1.6.0->accelerate==0.19.0) (1.2.1)\n",
      "Collecting sentence-transformers==2.2.2\n",
      "  Downloading sentence-transformers-2.2.2.tar.gz (85 kB)\n",
      "     -------------------------------------- 86.0/86.0 kB 605.7 kB/s eta 0:00:00\n",
      "  Preparing metadata (setup.py): started\n",
      "  Preparing metadata (setup.py): finished with status 'done'\n",
      "Requirement already satisfied: transformers<5.0.0,>=4.6.0 in c:\\users\\user\\anaconda3\\lib\\site-packages (from sentence-transformers==2.2.2) (4.37.2)\n",
      "Requirement already satisfied: tqdm in c:\\users\\user\\anaconda3\\lib\\site-packages (from sentence-transformers==2.2.2) (4.66.1)\n",
      "Requirement already satisfied: torch>=1.6.0 in c:\\users\\user\\anaconda3\\lib\\site-packages (from sentence-transformers==2.2.2) (2.0.1)\n",
      "Collecting torchvision\n",
      "  Downloading torchvision-0.17.0-cp310-cp310-win_amd64.whl (1.2 MB)\n",
      "     ---------------------------------------- 1.2/1.2 MB 5.7 MB/s eta 0:00:00\n",
      "Requirement already satisfied: numpy in c:\\users\\user\\anaconda3\\lib\\site-packages (from sentence-transformers==2.2.2) (1.23.5)\n",
      "Requirement already satisfied: scikit-learn in c:\\users\\user\\anaconda3\\lib\\site-packages (from sentence-transformers==2.2.2) (1.2.1)\n",
      "Requirement already satisfied: scipy in c:\\users\\user\\anaconda3\\lib\\site-packages (from sentence-transformers==2.2.2) (1.10.0)\n",
      "Requirement already satisfied: nltk in c:\\users\\user\\anaconda3\\lib\\site-packages (from sentence-transformers==2.2.2) (3.7)\n",
      "Requirement already satisfied: sentencepiece in c:\\users\\user\\anaconda3\\lib\\site-packages (from sentence-transformers==2.2.2) (0.1.99)\n",
      "Requirement already satisfied: huggingface-hub>=0.4.0 in c:\\users\\user\\anaconda3\\lib\\site-packages (from sentence-transformers==2.2.2) (0.20.3)\n",
      "Requirement already satisfied: filelock in c:\\users\\user\\anaconda3\\lib\\site-packages (from huggingface-hub>=0.4.0->sentence-transformers==2.2.2) (3.9.0)\n",
      "Requirement already satisfied: requests in c:\\users\\user\\anaconda3\\lib\\site-packages (from huggingface-hub>=0.4.0->sentence-transformers==2.2.2) (2.28.1)\n",
      "Requirement already satisfied: pyyaml>=5.1 in c:\\users\\user\\anaconda3\\lib\\site-packages (from huggingface-hub>=0.4.0->sentence-transformers==2.2.2) (6.0)\n",
      "Requirement already satisfied: fsspec>=2023.5.0 in c:\\users\\user\\anaconda3\\lib\\site-packages (from huggingface-hub>=0.4.0->sentence-transformers==2.2.2) (2023.12.2)\n",
      "Requirement already satisfied: typing-extensions>=3.7.4.3 in c:\\users\\user\\anaconda3\\lib\\site-packages (from huggingface-hub>=0.4.0->sentence-transformers==2.2.2) (4.9.0)\n",
      "Requirement already satisfied: packaging>=20.9 in c:\\users\\user\\anaconda3\\lib\\site-packages (from huggingface-hub>=0.4.0->sentence-transformers==2.2.2) (23.2)\n",
      "Requirement already satisfied: sympy in c:\\users\\user\\anaconda3\\lib\\site-packages (from torch>=1.6.0->sentence-transformers==2.2.2) (1.11.1)\n",
      "Requirement already satisfied: jinja2 in c:\\users\\user\\anaconda3\\lib\\site-packages (from torch>=1.6.0->sentence-transformers==2.2.2) (3.1.2)\n",
      "Requirement already satisfied: networkx in c:\\users\\user\\anaconda3\\lib\\site-packages (from torch>=1.6.0->sentence-transformers==2.2.2) (2.8.4)\n",
      "Requirement already satisfied: colorama in c:\\users\\user\\anaconda3\\lib\\site-packages (from tqdm->sentence-transformers==2.2.2) (0.4.6)\n",
      "Requirement already satisfied: safetensors>=0.4.1 in c:\\users\\user\\anaconda3\\lib\\site-packages (from transformers<5.0.0,>=4.6.0->sentence-transformers==2.2.2) (0.4.2)\n",
      "Collecting tokenizers<0.19,>=0.14\n",
      "  Using cached tokenizers-0.15.1-cp310-none-win_amd64.whl (2.2 MB)\n",
      "Requirement already satisfied: regex!=2019.12.17 in c:\\users\\user\\anaconda3\\lib\\site-packages (from transformers<5.0.0,>=4.6.0->sentence-transformers==2.2.2) (2022.7.9)\n",
      "Requirement already satisfied: click in c:\\users\\user\\anaconda3\\lib\\site-packages (from nltk->sentence-transformers==2.2.2) (8.0.4)\n",
      "Requirement already satisfied: joblib in c:\\users\\user\\anaconda3\\lib\\site-packages (from nltk->sentence-transformers==2.2.2) (1.1.1)\n",
      "Requirement already satisfied: threadpoolctl>=2.0.0 in c:\\users\\user\\anaconda3\\lib\\site-packages (from scikit-learn->sentence-transformers==2.2.2) (2.2.0)\n",
      "Requirement already satisfied: pillow!=8.3.*,>=5.3.0 in c:\\users\\user\\anaconda3\\lib\\site-packages (from torchvision->sentence-transformers==2.2.2) (9.4.0)\n",
      "Collecting torch>=1.6.0\n",
      "  Downloading torch-2.2.0-cp310-cp310-win_amd64.whl (198.6 MB)\n",
      "     ------------------------------------ 198.6/198.6 MB 887.6 kB/s eta 0:00:00\n",
      "Requirement already satisfied: MarkupSafe>=2.0 in c:\\users\\user\\anaconda3\\lib\\site-packages (from jinja2->torch>=1.6.0->sentence-transformers==2.2.2) (2.1.1)\n",
      "Requirement already satisfied: charset-normalizer<3,>=2 in c:\\users\\user\\anaconda3\\lib\\site-packages (from requests->huggingface-hub>=0.4.0->sentence-transformers==2.2.2) (2.0.4)\n",
      "Requirement already satisfied: idna<4,>=2.5 in c:\\users\\user\\anaconda3\\lib\\site-packages (from requests->huggingface-hub>=0.4.0->sentence-transformers==2.2.2) (2.10)\n",
      "Requirement already satisfied: certifi>=2017.4.17 in c:\\users\\user\\anaconda3\\lib\\site-packages (from requests->huggingface-hub>=0.4.0->sentence-transformers==2.2.2) (2022.12.7)\n",
      "Requirement already satisfied: urllib3<1.27,>=1.21.1 in c:\\users\\user\\anaconda3\\lib\\site-packages (from requests->huggingface-hub>=0.4.0->sentence-transformers==2.2.2) (1.26.14)\n",
      "Requirement already satisfied: mpmath>=0.19 in c:\\users\\user\\anaconda3\\lib\\site-packages (from sympy->torch>=1.6.0->sentence-transformers==2.2.2) (1.2.1)\n",
      "Building wheels for collected packages: sentence-transformers\n",
      "  Building wheel for sentence-transformers (setup.py): started\n",
      "  Building wheel for sentence-transformers (setup.py): finished with status 'done'\n",
      "  Created wheel for sentence-transformers: filename=sentence_transformers-2.2.2-py3-none-any.whl size=125960 sha256=95f75e89405341ec03270dd89258f33e9db8799fd3ea1d16060c5d744b310f93\n",
      "  Stored in directory: c:\\users\\user\\appdata\\local\\pip\\cache\\wheels\\0a\\f5\\dd\\9d00836c4e9e279c2a59d5b0ab72dafa66cbc626a327c550dd\n",
      "Successfully built sentence-transformers\n",
      "Installing collected packages: torch, torchvision, tokenizers, sentence-transformers\n",
      "  Attempting uninstall: torch\n",
      "    Found existing installation: torch 2.0.1\n",
      "    Uninstalling torch-2.0.1:\n",
      "      Successfully uninstalled torch-2.0.1\n",
      "  Attempting uninstall: tokenizers\n",
      "    Found existing installation: tokenizers 0.13.3\n",
      "    Uninstalling tokenizers-0.13.3:\n",
      "      Successfully uninstalled tokenizers-0.13.3\n",
      "  Attempting uninstall: sentence-transformers\n",
      "    Found existing installation: sentence-transformers 2.3.1\n",
      "    Uninstalling sentence-transformers-2.3.1:\n",
      "      Successfully uninstalled sentence-transformers-2.3.1\n",
      "Successfully installed sentence-transformers-2.2.2 tokenizers-0.15.1 torch-2.2.0 torchvision-0.17.0\n",
      "Collecting einops==0.6.1\n",
      "  Downloading einops-0.6.1-py3-none-any.whl (42 kB)\n",
      "     -------------------------------------- 42.2/42.2 kB 516.0 kB/s eta 0:00:00\n",
      "Installing collected packages: einops\n",
      "Successfully installed einops-0.6.1\n",
      "Collecting xformers==0.0.20\n",
      "  Downloading xformers-0.0.20-cp310-cp310-win_amd64.whl (97.6 MB)\n",
      "     ---------------------------------------- 97.6/97.6 MB 2.6 MB/s eta 0:00:00\n",
      "Collecting torch==2.0.1\n",
      "  Using cached torch-2.0.1-cp310-cp310-win_amd64.whl (172.3 MB)\n",
      "Requirement already satisfied: numpy in c:\\users\\user\\anaconda3\\lib\\site-packages (from xformers==0.0.20) (1.23.5)\n",
      "Collecting pyre-extensions==0.0.29\n",
      "  Downloading pyre_extensions-0.0.29-py3-none-any.whl (12 kB)\n",
      "Requirement already satisfied: typing-inspect in c:\\users\\user\\anaconda3\\lib\\site-packages (from pyre-extensions==0.0.29->xformers==0.0.20) (0.9.0)\n",
      "Requirement already satisfied: typing-extensions in c:\\users\\user\\anaconda3\\lib\\site-packages (from pyre-extensions==0.0.29->xformers==0.0.20) (4.9.0)\n",
      "Requirement already satisfied: sympy in c:\\users\\user\\anaconda3\\lib\\site-packages (from torch==2.0.1->xformers==0.0.20) (1.11.1)\n",
      "Requirement already satisfied: networkx in c:\\users\\user\\anaconda3\\lib\\site-packages (from torch==2.0.1->xformers==0.0.20) (2.8.4)\n",
      "Requirement already satisfied: filelock in c:\\users\\user\\anaconda3\\lib\\site-packages (from torch==2.0.1->xformers==0.0.20) (3.9.0)\n",
      "Requirement already satisfied: jinja2 in c:\\users\\user\\anaconda3\\lib\\site-packages (from torch==2.0.1->xformers==0.0.20) (3.1.2)\n",
      "Requirement already satisfied: MarkupSafe>=2.0 in c:\\users\\user\\anaconda3\\lib\\site-packages (from jinja2->torch==2.0.1->xformers==0.0.20) (2.1.1)\n",
      "Requirement already satisfied: mpmath>=0.19 in c:\\users\\user\\anaconda3\\lib\\site-packages (from sympy->torch==2.0.1->xformers==0.0.20) (1.2.1)\n",
      "Requirement already satisfied: mypy-extensions>=0.3.0 in c:\\users\\user\\anaconda3\\lib\\site-packages (from typing-inspect->pyre-extensions==0.0.29->xformers==0.0.20) (0.4.3)\n",
      "Installing collected packages: torch, pyre-extensions, xformers\n",
      "  Attempting uninstall: torch\n",
      "    Found existing installation: torch 2.2.0\n",
      "    Uninstalling torch-2.2.0:\n",
      "      Successfully uninstalled torch-2.2.0\n",
      "Successfully installed pyre-extensions-0.0.29 torch-2.0.1 xformers-0.0.20\n"
     ]
    },
    {
     "name": "stderr",
     "output_type": "stream",
     "text": [
      "ERROR: pip's dependency resolver does not currently take into account all the packages that are installed. This behaviour is the source of the following dependency conflicts.\n",
      "torchvision 0.17.0 requires torch==2.2.0, but you have torch 2.0.1 which is incompatible.\n"
     ]
    }
   ],
   "source": [
    "!pip install langchain==0.0.189\n",
    "!pip install chromadb==0.3.25\n",
    "!pip install pdfplumber==0.9.0\n",
    "!pip install tiktoken==0.4.0\n",
    "!pip install lxml==4.9.2\n",
    "!pip install torch==2.0.1\n",
    "!pip install transformers==4.29.2\n",
    "!pip install accelerate==0.21.0\n",
    "!pip install sentence-transformers==2.2.2\n",
    "!pip install einops==0.6.1\n",
    "!pip install xformers==0.0.20"
   ]
  },
  {
   "cell_type": "markdown",
   "id": "c6232ef4",
   "metadata": {},
   "source": [
    "Let's initialize our OpenAI key in our environment. First create an environment and store the API key and then execute the below cell. You can also manually enter API key through this method (although not recommended)\n",
    "\n",
    "'''from dotenv import load_dotenv\n",
    "import json\n",
    "import os\n",
    "\n",
    "os.environ[\"OPENAI_API_KEY\"] = 'Your OpenAI Key''''"
   ]
  },
  {
   "cell_type": "code",
   "execution_count": 1,
   "id": "253befea",
   "metadata": {},
   "outputs": [],
   "source": [
    "from dotenv import load_dotenv\n",
    "import json\n",
    "import os\n",
    "try:\n",
    "    from hyperplane.utils import is_jhub\n",
    "    if is_jhub(): ##If using jupyter hub and conda base environment\n",
    "        openaiKeyFile = '/root/.secret/openai_key.json'\n",
    "    else:\n",
    "        ## Storing as a secret on k8s cluster\n",
    "        openaiKeyFile = '/etc/hyperplane/secrets/openai_key.json'\n",
    "    with open(openaiKeyFile) as f:\n",
    "        os.environ[\"OPENAI_API_KEY\"] = json.load(f)['openai_key']\n",
    "except Exception as e:\n",
    "    print(e)\n",
    "    load_dotenv()\n"
   ]
  },
  {
   "cell_type": "markdown",
   "id": "17924074",
   "metadata": {},
   "source": [
    "Let's load our LLM embedding models and generative models in variables which will be useful when we are executing our functions."
   ]
  },
  {
   "cell_type": "code",
   "execution_count": 17,
   "id": "95679958",
   "metadata": {},
   "outputs": [],
   "source": [
    "EMB_OPENAI_ADA = \"text-embedding-ada-002\"\n",
    "EMB_INSTRUCTOR_XL = \"hkunlp/instructor-xl\"\n",
    "EMB_SBERT_MPNET_BASE = \"sentence-transformers/all-mpnet-base-v2\"\n",
    "EMB_SBERT_MINILM = \"sentence-transformers/all-MiniLM-L6-v2\" # Chroma takes care if embeddings are None\n",
    "\n",
    "LLM_OPENAI_GPT35 = \"gpt-3.5-turbo\"\n",
    "LLM_FLAN_T5_XXL = \"google/flan-t5-xxl\"\n",
    "LLM_FLAN_T5_XL = \"google/flan-t5-xl\"\n",
    "LLM_FASTCHAT_T5_XL = \"lmsys/fastchat-t5-3b-v1.0\"\n",
    "LLM_FLAN_T5_SMALL = \"google/flan-t5-small\"\n",
    "LLM_FLAN_T5_BASE = \"google/flan-t5-base\"\n",
    "LLM_FLAN_T5_LARGE = \"google/flan-t5-large\"\n",
    "LLM_FALCON_SMALL = \"tiiuae/falcon-7b-instruct\"\n"
   ]
  },
  {
   "cell_type": "markdown",
   "id": "b13acbf4",
   "metadata": {},
   "source": [
    "Now let's import all the installed and other necessary modules and functions"
   ]
  },
  {
   "cell_type": "code",
   "execution_count": 6,
   "id": "87a65667",
   "metadata": {},
   "outputs": [
    {
     "name": "stderr",
     "output_type": "stream",
     "text": [
      "C:\\Users\\User\\anaconda3\\lib\\site-packages\\bitsandbytes\\cextension.py:34: UserWarning: The installed version of bitsandbytes was compiled without GPU support. 8-bit optimizers, 8-bit multiplication, and GPU quantization are unavailable.\n",
      "  warn(\"The installed version of bitsandbytes was compiled without GPU support. \"\n"
     ]
    },
    {
     "name": "stdout",
     "output_type": "stream",
     "text": [
      "'NoneType' object has no attribute 'cadam32bit_grad_fp32'\n"
     ]
    }
   ],
   "source": [
    "from langchain.document_loaders import PDFPlumberLoader\n",
    "from langchain.text_splitter import CharacterTextSplitter, TokenTextSplitter\n",
    "from transformers import pipeline\n",
    "from langchain.prompts import PromptTemplate\n",
    "from langchain.chat_models import ChatOpenAI\n",
    "from langchain.vectorstores import Chroma\n",
    "from langchain.chains import RetrievalQA\n",
    "from langchain import HuggingFacePipeline\n",
    "from langchain.embeddings import HuggingFaceInstructEmbeddings, HuggingFaceEmbeddings\n",
    "from langchain.embeddings.openai import OpenAIEmbeddings\n",
    "from langchain.llms import OpenAI\n",
    "import torch\n",
    "from transformers import AutoTokenizer\n",
    "import re"
   ]
  },
  {
   "cell_type": "markdown",
   "id": "778307b0",
   "metadata": {},
   "source": [
    "Let’s go ahead and first setup SBERT for embedding model and flant5-base for generation model"
   ]
  },
  {
   "cell_type": "code",
   "execution_count": null,
   "id": "ef87e578",
   "metadata": {},
   "outputs": [],
   "source": [
    "config = {\"persist_directory\":None,\n",
    "          \"load_in_8bit\":False,\n",
    "          \"embedding\" : EMB_SBERT_MPNET_BASE,\n",
    "          \"llm\":LLM_FLAN_T5_BASE,\n",
    "          }"
   ]
  },
  {
   "cell_type": "markdown",
   "id": "3ffa2fa5",
   "metadata": {},
   "source": [
    "Defining all the functions to set up the model"
   ]
  },
  {
   "cell_type": "code",
   "execution_count": 5,
   "id": "614dc4b8",
   "metadata": {},
   "outputs": [],
   "source": [
    "def create_sbert_mpnet():\n",
    "        device = \"cuda\" if torch.cuda.is_available() else \"cpu\"\n",
    "        return HuggingFaceEmbeddings(model_name=EMB_SBERT_MPNET_BASE, model_kwargs={\"device\": device})\n",
    "\n",
    "\n",
    "def create_flan_t5_base(load_in_8bit=False):\n",
    "        # Wrap it in HF pipeline for use with LangChain\n",
    "        model=\"google/flan-t5-base\"\n",
    "        tokenizer = AutoTokenizer.from_pretrained(model)\n",
    "        return pipeline(\n",
    "            task=\"text2text-generation\",\n",
    "            model=model,\n",
    "            tokenizer = tokenizer,\n",
    "            max_new_tokens=100,\n",
    "            model_kwargs={\"device_map\": \"auto\", \"load_in_8bit\": load_in_8bit, \"max_length\": 512, \"temperature\": 0.}\n",
    "        )\n",
    "def create_falcon_instruct_small(load_in_8bit=False):\n",
    "        model = \"tiiuae/falcon-7b-instruct\"\n",
    "\n",
    "        tokenizer = AutoTokenizer.from_pretrained(model)\n",
    "        hf_pipeline = pipeline(\n",
    "                task=\"text-generation\",\n",
    "                model = model,\n",
    "                tokenizer = tokenizer,\n",
    "                trust_remote_code = True,\n",
    "                max_new_tokens=100,\n",
    "                model_kwargs={\n",
    "                    \"device_map\": \"auto\", \n",
    "                    \"load_in_8bit\": load_in_8bit, \n",
    "                    \"max_length\": 512, \n",
    "                    \"temperature\": 0.01,\n",
    "                    \"torch_dtype\":torch.bfloat16,\n",
    "                    }\n",
    "            )\n",
    "        return hf_pipeline"
   ]
  },
  {
   "cell_type": "code",
   "execution_count": 6,
   "id": "2e7688fd",
   "metadata": {},
   "outputs": [
    {
     "name": "stderr",
     "output_type": "stream",
     "text": [
      "C:\\Users\\User\\anaconda3\\lib\\site-packages\\torch\\_utils.py:776: UserWarning: TypedStorage is deprecated. It will be removed in the future and UntypedStorage will be the only storage class. This should only matter to you if you are using storages directly.  To access UntypedStorage directly, use tensor.untyped_storage() instead of tensor.storage()\n",
      "  return self.fget.__get__(instance, owner)()\n"
     ]
    },
    {
     "data": {
      "application/vnd.jupyter.widget-view+json": {
       "model_id": "b66e2f797e604185833cd5a2c80df852",
       "version_major": 2,
       "version_minor": 0
      },
      "text/plain": [
       "model.safetensors:   0%|          | 0.00/990M [00:00<?, ?B/s]"
      ]
     },
     "metadata": {},
     "output_type": "display_data"
    },
    {
     "name": "stderr",
     "output_type": "stream",
     "text": [
      "C:\\Users\\User\\anaconda3\\lib\\site-packages\\huggingface_hub\\file_download.py:149: UserWarning: `huggingface_hub` cache-system uses symlinks by default to efficiently store duplicated files but your machine does not support them in C:\\Users\\User\\.cache\\huggingface\\hub\\models--google--flan-t5-base. Caching files will still work but in a degraded version that might require more space on your disk. This warning can be disabled by setting the `HF_HUB_DISABLE_SYMLINKS_WARNING` environment variable. For more details, see https://huggingface.co/docs/huggingface_hub/how-to-cache#limitations.\n",
      "To support symlinks on Windows, you either need to activate Developer Mode or to run Python as an administrator. In order to see activate developer mode, see this article: https://docs.microsoft.com/en-us/windows/apps/get-started/enable-your-device-for-development\n",
      "  warnings.warn(message)\n",
      "C:\\Users\\User\\anaconda3\\lib\\site-packages\\transformers\\generation\\configuration_utils.py:392: UserWarning: `do_sample` is set to `False`. However, `temperature` is set to `0.0` -- this flag is only used in sample-based generation modes. You should set `do_sample=True` or unset `temperature`. This was detected when initializing the generation config instance, which means the corresponding file may hold incorrect parameterization and should be fixed.\n",
      "  warnings.warn(\n"
     ]
    },
    {
     "data": {
      "application/vnd.jupyter.widget-view+json": {
       "model_id": "4aaa350be96640e398b86874271dc689",
       "version_major": 2,
       "version_minor": 0
      },
      "text/plain": [
       "generation_config.json:   0%|          | 0.00/147 [00:00<?, ?B/s]"
      ]
     },
     "metadata": {},
     "output_type": "display_data"
    }
   ],
   "source": [
    "if config[\"embedding\"] == EMB_SBERT_MPNET_BASE:\n",
    "    embedding = create_sbert_mpnet()\n",
    "load_in_8bit = config[\"load_in_8bit\"]\n",
    "if config[\"llm\"] == LLM_FLAN_T5_BASE:\n",
    "    llm = create_flan_t5_base(load_in_8bit=load_in_8bit)"
   ]
  },
  {
   "cell_type": "code",
   "execution_count": null,
   "id": "951c5d9a",
   "metadata": {},
   "outputs": [],
   "source": [
    "Ingesting data into the ChromaDB vector store"
   ]
  },
  {
   "cell_type": "code",
   "execution_count": 7,
   "id": "c0c1c9bf",
   "metadata": {},
   "outputs": [],
   "source": [
    "# Load the pdf\n",
    "pdf_path = r\"file path\"\n",
    "loader = PDFPlumberLoader(pdf_path)\n",
    "documents = loader.load()\n",
    "\n",
    "# Split documents and create text snippets\n",
    "text_splitter = CharacterTextSplitter(chunk_size=100, chunk_overlap=0)\n",
    "texts = text_splitter.split_documents(documents)\n",
    "text_splitter = TokenTextSplitter(chunk_size=1000, chunk_overlap=10, encoding_name=\"cl100k_base\")  # This the encoding for text-embedding-ada-002\n",
    "texts = text_splitter.split_documents(texts)\n",
    "\n",
    "persist_directory = config[\"persist_directory\"]\n",
    "vectordb = Chroma.from_documents(documents=texts, embedding=embedding, persist_directory=persist_directory)"
   ]
  },
  {
   "cell_type": "markdown",
   "id": "7785e689",
   "metadata": {},
   "source": [
    "RetrievalQA finds relevant snippets based on question embeddings, then construct a Prompt and query LLM"
   ]
  },
  {
   "cell_type": "code",
   "execution_count": 8,
   "id": "473d8172",
   "metadata": {},
   "outputs": [],
   "source": [
    "hf_llm = HuggingFacePipeline(pipeline=llm)\n",
    "retriever = vectordb.as_retriever(search_kwargs={\"k\":4})\n",
    "qa = RetrievalQA.from_chain_type(llm=hf_llm, chain_type=\"stuff\",retriever=retriever)\n",
    "\n",
    "# Defining a default prompt for flan models\n",
    "if config[\"llm\"] == LLM_FLAN_T5_SMALL or config[\"llm\"] == LLM_FLAN_T5_BASE or config[\"llm\"] == LLM_FLAN_T5_LARGE:\n",
    "    question_t5_template = \"\"\"\n",
    "    context: {context}\n",
    "    question: {question}\n",
    "    answer: \n",
    "    \"\"\"\n",
    "    QUESTION_T5_PROMPT = PromptTemplate(\n",
    "        template=question_t5_template, input_variables=[\"context\", \"question\"]\n",
    "    )\n",
    "    qa.combine_documents_chain.llm_chain.prompt = QUESTION_T5_PROMPT"
   ]
  },
  {
   "cell_type": "markdown",
   "id": "7617f45a",
   "metadata": {},
   "source": [
    "And finally our query...."
   ]
  },
  {
   "cell_type": "code",
   "execution_count": 9,
   "id": "a9cb9c54",
   "metadata": {},
   "outputs": [
    {
     "name": "stderr",
     "output_type": "stream",
     "text": [
      "Token indices sequence length is longer than the specified maximum sequence length for this model (2978 > 512). Running this sequence through the model will result in indexing errors\n"
     ]
    },
    {
     "name": "stdout",
     "output_type": "stream",
     "text": [
      "\n",
      "\n",
      "\u001b[1m> Entering new StuffDocumentsChain chain...\u001b[0m\n"
     ]
    },
    {
     "name": "stderr",
     "output_type": "stream",
     "text": [
      "C:\\Users\\User\\anaconda3\\lib\\site-packages\\transformers\\generation\\configuration_utils.py:392: UserWarning: `do_sample` is set to `False`. However, `temperature` is set to `0.0` -- this flag is only used in sample-based generation modes. You should set `do_sample=True` or unset `temperature`. This was detected when initializing the generation config instance, which means the corresponding file may hold incorrect parameterization and should be fixed.\n",
      "  warnings.warn(\n",
      "C:\\Users\\User\\anaconda3\\lib\\site-packages\\transformers\\generation\\utils.py:1295: UserWarning: You have modified the pretrained model configuration to control generation. This is a deprecated strategy to control generation and will be removed soon, in a future version. Please use and modify the model generation configuration (see https://huggingface.co/docs/transformers/generation_strategies#default-text-generation-configuration )\n",
      "  warnings.warn(\n",
      "C:\\Users\\User\\anaconda3\\lib\\site-packages\\transformers\\generation\\configuration_utils.py:392: UserWarning: `do_sample` is set to `False`. However, `temperature` is set to `0.0` -- this flag is only used in sample-based generation modes. You should set `do_sample=True` or unset `temperature`.\n",
      "  warnings.warn(\n"
     ]
    },
    {
     "name": "stdout",
     "output_type": "stream",
     "text": [
      "\n",
      "\u001b[1m> Finished chain.\u001b[0m\n"
     ]
    },
    {
     "data": {
      "text/plain": [
       "{'query': \"What's the point of making myself less accessible?\",\n",
       " 'result': 'Create value through scarcity',\n",
       " 'source_documents': [Document(page_content='The 48 Laws Of Power Page 4\\n• Transgression of the Law.\\nCoriolanus was a great military hero of ancient Rome. People held him in awe, until\\nhe opened his mouth. He spoke his mind, hardly able to control his arrogance and\\nboastfulness. He slandered and insulted people. The more speeches he made, the\\nless people respected him. He suffered the people’s wrath and was eventually\\nbanished from the city.\\n• Observance of the Law\\nMasters of enigma Andy Warhol and Marcel Duchamp knew the power of saying less\\nand keeping people guessing. The less Duchamp talked about his work, the more it\\nwas talked about in the art circles. Andy Warhol recognized it was hard to talk people\\ninto doing what you wanted, so when interviewed, he would give vague and\\nambiguous answers and let the interviewer find his own interpretation.\\nWisdom in a nutshell:\\n• Saying less will keep you from saying something foolish or even dangerous.\\n• Once the words are out you cannot take them back.\\n• Keeping silent makes people reveal more about themselves. This is information\\nyou may be able to use against them later on.\\n5. SO MUCH DEPENDS ON REPUTATION – GUARD IT WITH YOUR\\nLIFE.\\n• Observance of the Law\\nDuring China’s War of the Three Kingdoms (A.D.207-265), General Liang was able to\\nfool his rival Sima Yi simply by letting his track record for being an undefeated leader\\nin battle do the work for him. Liang’s troops were far outnumbered by Sima Yi’s, yet\\nhe devised a clever last resort plan. Liang donned a Taoist robe and played the lute\\nupon the wall of the city he was defending. His soldiers opened the gates and hid.\\nWhen Sima Yi’s troops advanced upon the unguarded city, Yi recognized his\\nopponent sitting alone upon the wall. Fearing a trap, Sima Yi called his soldiers to\\nretreat.\\nP.T. Barnum was an expert at destroying his competitor’s reputation. He published\\nletters in newspapers, warning the public against buying his opponent’s stock. He\\nwas a master at poking mockery at the tactics of his rivals.\\nWisdom in a nutshell:\\n• Sow doubt and spread rumors about your rival. Even if they vehemently deny it,\\npeople will still be wondering why they are so defensive.\\n• Use humor or gentle mockery at your rival’s expense.\\n• A solid reputation increases your presence and exaggerates your strengths\\nwithout your having to spend much energy.\\n• Never appear desperate in your self-defense against the slander of others.\\n• Be careful not to go too far in attacking another’s reputation, it draws more\\nattention to your vengefulness than to the person you are slandering. Use subtler\\ntactics like satire and ridicule.\\n6. COURT ATTENTION AT ALL COST.\\n• Observance of the Law\\nwww.bizsum.com © 2001, 2002 Copyright BusinessSummaries.com', metadata={'Author': 'che.roces', 'CreationDate': \"D:20060301164446+08'00'\", 'Creator': 'PScript5.dll Version 5.2', 'ModDate': \"D:20060301164446+08'00'\", 'Producer': 'Acrobat Distiller 6.0 (Windows)', 'Title': 'Microsoft Word - The 48 Laws of Power_BIZ.doc', 'file_path': 'C:\\\\Users\\\\User\\\\Downloads\\\\48lawsofpower.pdf', 'page': 4, 'source': 'C:\\\\Users\\\\User\\\\Downloads\\\\48lawsofpower.pdf', 'total_pages': 17}),\n",
       "  Document(page_content='The 48 Laws Of Power Page 9\\nThis law is most appreciated in matters of seduction and love. Make yourself too\\navailable and your presence will be taken for granted. In the Middle Ages, ladies played\\nthe game of presence and absence by sending their knights off on long arduous quests.\\nSir Guillaume de Balaun wanted to taste the joy of love after reconciliation, and twice he\\nintentionally made himself scarce, withdrawing his affections from Madame Guillelma de\\nJaviac. The first time he drove his lover wild with grief, the second time she became\\nangry and cut him off. When he wrote her begging to be let back into her favor, she\\nallowed him back only on the condition he do penance for his cruelty.\\nWith business, an early retirement at the height of your career will keep people holding\\nyou in high regard, and waiting to see you make a comeback.\\nWisdom in a nutshell:\\n• Create value through scarcity. Make yourself less accessible; otherwise the aura\\nyou have created around yourself will wear away.\\n17. KEEP OTHERS IN SUSPENDED TERROR: CULTIVATE AN AIR OF\\nUNPREDICTABILITY.\\n• Observance of the Law\\nBobby Fischer beat chess champion Boris Spassky using this law of unpredictability.\\nSpassky’s method of playing chess was to base his strategy on the patterns he read in\\nhis opponent’s moves. Fischer unnerved him by arriving late for the first two tournaments,\\neven letting a match get forfeited. On the third game he made moves that were so\\nuncharacteristic and bold Spassky was thrown off balance. Fourteen games later\\nSpassky claimed Fischer was probably putting drugs in the orange juice they drank while\\nplaying. Spassky resigned a few months later and never recovered from his defeat.\\nWisdom in a nutshell:\\n• A person of power instills fear by deliberately unsettling those around him to keep\\nthe initiative on his side.\\n• Only the terminally subordinate act in a predictable manner.\\n18. DO NOT BUILD FORTRESSES TO PROTECT YOURSELF –\\nISOLATION IS DANGEROUS.\\n• Observance of the Law\\nKing Louis XIV recognized the importance of always keeping his eyes and ears on\\neveryone and everything around him. He built a palace in Versailles where all the nobility\\ncould keep apartments near to his. He knew that if he were to isolate himself for one\\nmoment, conspiracies would rise behind his back. The daily activities all revolved around\\nthe king, leaving no one unnoticed, hundreds of visitors and attendants were always\\npresent. There was not very much privacy for the king and he preferred this life to one of\\nisolation.\\nWisdom in a nutshell:\\n• A fortress may be impregnable, but everyone knows you are there and it may easily\\nturn into a prison.\\n• Power depends on social interaction and circulation.\\n• Isolation is deadly for the creative arts. Shakespeare was always producing plays for\\nthe masses. He was in constant touch with reality and what people wanted.\\n• Mobility and social contact protects you from plotters.\\n19. KNOW WHO YOU’RE DEALING WITH – DO NOT OFFEND THE\\nWRONG PERSON.\\n• Transgression of the Law\\nwww.bizsum.com © 2001, 2002 Copyright BusinessSummaries.com', metadata={'Author': 'che.roces', 'CreationDate': \"D:20060301164446+08'00'\", 'Creator': 'PScript5.dll Version 5.2', 'ModDate': \"D:20060301164446+08'00'\", 'Producer': 'Acrobat Distiller 6.0 (Windows)', 'Title': 'Microsoft Word - The 48 Laws of Power_BIZ.doc', 'file_path': 'C:\\\\Users\\\\User\\\\Downloads\\\\48lawsofpower.pdf', 'page': 9, 'source': 'C:\\\\Users\\\\User\\\\Downloads\\\\48lawsofpower.pdf', 'total_pages': 17}),\n",
       "  Document(page_content='The 48 Laws Of Power Page 14\\nWisdom in a nutshell:\\n• Make people your puppets and give them options to let them feel they have control.\\nForce them to choose between the lesser of two evils, both of which serve your\\npurpose.\\n• Present options but color the one you prefer as the best solution.\\n• Force the resister into “choosing” to do what you want by appearing to advocate the\\nopposite.\\n• Alter the playing field so the only options available are the ones you offer.\\n• Shrinking options force people to buy in now or else the goods won’t be available\\ntomorrow.\\n• The weak man must be propelled into action through fear and terror.\\n• Involving your victim in your scheme with the threat of their exposure later will keep\\nthem tied to you. They cannot expose you because they will be found out as well.\\n• Use the horns of a dilemma: whichever way they choose, there is no escape.\\n32. PLAY TO PEOPLE’S FANTASIES.\\nObservance of the Law:\\nIn the 1700s, a mysterious stranger named George Psalmanazar came to fame with his\\nbooks and lectures on the language, culture and history of the island of Formosa (now\\nTaiwan). After his death, it was revealed that he was in fact a Frenchman with a rich\\nimagination who played on the British need for the exotic and strange. He had invented\\neverything he had professed to be an expert on, having capitalized on it with best-selling\\nbooks and having been a favorite guest at many royal dinners.\\nAbraham Lincoln created an image of himself as the homespun country lawyer with a\\nbeard. He played to the fantasy of the common man’s president.\\nWisdom in a nutshell:\\n• People need a fantasy to escape from the humdrum of everyday life. The more\\nvague and exotic, the more captivating.\\n• Promise a pot of gold and instant gratification, rather than a gradual improvement\\nthrough hard work.\\n• Keep your distance so the fantasy remains intact.\\n33. DISCOVER EACH MAN’S THUMBSCREW.\\nWisdom in a nutshell:\\n• Every person has a weakness or insecurity you can use to your advantage.\\n• Train yourself to probe for weaknesses in everyday conversation.\\n• Find the childhood need that went unfulfilled, supply it, and your victim will be unable\\nto resist you.\\n• People’s weaknesses are the opposite of the qualities they reveal to you. The shy\\nperson is actually dying for attention; a prude may be hiding a lascivious soul, etc.\\n• Find the weak link or the one person in a group who will bend under pressure.\\n• Feed on uncontrollable emotions or motive – paranoia, lust, greed, vanity, or hatred.\\n• When searching for suckers, always look for the unhappy, insecure and dissatisfied.\\n34. BE ROYAL IN YOUR OWN FASHION: ACT LIKE A KING TO BE\\nTREATED LIKE ONE.\\nWisdom in a nutshell:\\n• How you carry yourself reflects what you think of yourself. Exude confidence and the\\nfeeling you were destined for greatness.\\nwww.bizsum.com © 2001, 2002 Copyright BusinessSummaries.com', metadata={'Author': 'che.roces', 'CreationDate': \"D:20060301164446+08'00'\", 'Creator': 'PScript5.dll Version 5.2', 'ModDate': \"D:20060301164446+08'00'\", 'Producer': 'Acrobat Distiller 6.0 (Windows)', 'Title': 'Microsoft Word - The 48 Laws of Power_BIZ.doc', 'file_path': 'C:\\\\Users\\\\User\\\\Downloads\\\\48lawsofpower.pdf', 'page': 14, 'source': 'C:\\\\Users\\\\User\\\\Downloads\\\\48lawsofpower.pdf', 'total_pages': 17}),\n",
       "  Document(page_content='The 48 Laws Of Power Page 3\\ngrabbing his throne one day. He spared those who conspired against him, and was\\nable to win over enemies with his generosity.\\nWisdom in a nutshell:\\n• Do not rely on friends. They will never be totally honest with you. They will not\\nopenly disagree with you in order to avoid arguments.\\n• Enemies expect nothing so they will be surprised when you are generous.\\n• An enemy spared the guillotine will be more grateful to you than a friend.\\n• When you decide to hire a friend you will discover qualities she has kept hidden.\\n• Skill and competence are more important than friendly feelings.\\n• Hiring friends will limit your power.\\n• All working situations require a kind of distance between people.\\n• You destroy an enemy when you make a friend of him.\\n• An enemy at your heels keeps you sharp, alert, and focused.\\n3. CONCEAL YOUR INTENTIONS.\\n• Transgression of the Law.\\nThe Marquis de Sevigne was young and inexperienced in the art of love. He confided\\nin the infamous courtesan of seventeenth-century France, Ninon de Lenclos, to\\ninstruct him on how to seduce a difficult young countess. She made him follow a plan\\nover a number of weeks, where the Marquis would be appearing in public always\\nsurrounded by beautiful women, in the very places the countess would be expected\\nto see him. He was supposed to assume an air of nonchalance. This increased the\\njealousy of the young countess, who was not sure of his interest in her. One day the\\nMarquis, unable to control his passion, broke from Ninon’s plan, and blurted out to\\nthe countess that he loved her. After this admission, the countess no longer found\\nhim interesting and avoided him.\\n• Observance of the Law\\nOtto von Bismarck was a deputy in the Prussian parliament at a time when many\\nfellow deputies thought it was possible to go to war against Austria and defeat it.\\nBismarck knew the Prussian army was not prepared, so he devised a clever way to\\nkeep the war at bay. He publicly stated his praises for the Austrians and talked about\\nthe madness of war. Many deputies changed their votes. Had Bismarck announced\\nhis real intentions, arguing it was better to wait now and fight later, he would not have\\nwon. Most Prussians wanted to go to war at that moment and mistakenly believed\\ntheir army to be superior to the Austrians. Had he gone to the king his sincerity would\\nhave been doubted. By giving misleading statements about wanting peace and\\nconcealing his true purpose, Bismarck’s speech catapulted him to the position of\\nprime minister. He later led the country to war against the Austrians at the right time,\\nwhen he felt the Prussian army was more capable.\\nWisdom in a nutshell:\\n• Use decoyed objects of desire and red herrings to throw people off scent.\\n• Use smoke screens (a poker face) to disguise your actions.\\n• False sincerity is one powerful tool that will send your rivals on a wild goose\\nchase.\\n• Publicly declare your false intentions to give misleading signals.\\n• A noble gesture can be a smoke screen to hide your true intentions.\\n• Blend in and people will be less suspicious.\\n4. ALWAYS SAY LESS THAN NECESSARY.\\nwww.bizsum.com © 2001, 2002 Copyright BusinessSummaries.com', metadata={'Author': 'che.roces', 'CreationDate': \"D:20060301164446+08'00'\", 'Creator': 'PScript5.dll Version 5.2', 'ModDate': \"D:20060301164446+08'00'\", 'Producer': 'Acrobat Distiller 6.0 (Windows)', 'Title': 'Microsoft Word - The 48 Laws of Power_BIZ.doc', 'file_path': 'C:\\\\Users\\\\User\\\\Downloads\\\\48lawsofpower.pdf', 'page': 3, 'source': 'C:\\\\Users\\\\User\\\\Downloads\\\\48lawsofpower.pdf', 'total_pages': 17})]}"
      ]
     },
     "execution_count": 9,
     "metadata": {},
     "output_type": "execute_result"
    }
   ],
   "source": [
    "question = \"What's the point of making myself less accessible?\"\n",
    "qa.combine_documents_chain.verbose = True\n",
    "qa.return_source_documents = True\n",
    "qa({\"query\":question,})"
   ]
  },
  {
   "cell_type": "code",
   "execution_count": 11,
   "id": "7f1b590a",
   "metadata": {},
   "outputs": [
    {
     "name": "stdout",
     "output_type": "stream",
     "text": [
      "\n",
      "\n",
      "\u001b[1m> Entering new StuffDocumentsChain chain...\u001b[0m\n",
      "\n",
      "\u001b[1m> Finished chain.\u001b[0m\n"
     ]
    },
    {
     "data": {
      "text/plain": [
       "{'query': 'Can you give me an example from history where the enemy was crushed totally from the book?',\n",
       " 'result': 'a shrew',\n",
       " 'source_documents': [Document(page_content='The 48 Laws Of Power Page 11\\n22. USE THE SURRENDER TACTIC: TRANSFORM WEAKNESS INTO\\nPOWER.\\n• Observance of the Law\\nGerman writer Bertolt Brecht was called to appear before the US Congress’s House of\\nUn-American Activities Committee during the heyday of the Communist investigations.\\nUnlike his companions in the Hollywood 19, (other producers, directors and writers who\\nespoused communism in their scripts) he chose to be respectful to the committee. Subtly\\nhe mocked them by offering vague but polite answers, used an interpreter to run circles\\naround them when asked about the lines from his poems, and was summarily dismissed.\\nHe was free to leave America and continue writing as he pleased, while his friends in\\nHollywood lost valuable working years as a result of being blacklisted.\\nWisdom in a nutshell:\\n• Do not fight aggression with aggression. Put your opponent off-guard by yielding, and\\nin effect have more control over the situation.\\n• Surrender is a way of mocking your enemies.\\n• Surrender disguises your real motives and allows time to plan your next move.\\n23. CONCENTRATE YOUR FORCES.\\n• Observance of the Law\\nThe Rothschild banking family concentrated its wealth within a very tight-knit structure.\\nFive brothers each controlled a part of the empire from Paris, Frankfurt, Vienna, Naples,\\nto London. They established themselves as a powerful force in business and politics,\\nkeeping the secrets of the family business by exchanging internal communications only in\\ncode or Frankfurt Yiddish. Family policy ruled and their children intermarried, all of them\\nfirst cousins.\\nWisdom in a nutshell:\\n• Single-mindedness of purpose and total concentration on one goal will overwhelm\\nthe enemy every time.\\n• A single patron appreciates your loyalty and becomes dependent on your services.\\n• In the arts, being too single-minded can make you an intolerable bore.\\n24. PLAY THE PERFECT COURTIER.\\nWisdom in a nutshell:\\n• Avoid ostentation. Talk less about yourself. Modesty is generally preferable.\\n• Practice nonchalance. All your hard work must come off as effortless.\\n• Be frugal with flattery.\\n• Arrange to be noticed.\\n• Alter your style and language according to the person you are dealing with.\\n• Never be the bearer of bad news.\\n• Never affect friendliness and intimacy with your master.\\n• Never criticize those above you directly.\\n• Be frugal in asking those above you for favors.\\n• Never joke about appearances or taste.\\n• Do not be the court cynic.\\n• Be self-observant.\\n• Master your emotions.\\n• Fit the spirit of the times.\\n• Be a source of pleasure.\\n25. RE-CREATE YOURSELF.\\nObservance of the Law\\nwww.bizsum.com © 2001, 2002 Copyright BusinessSummaries.com', metadata={'Author': 'che.roces', 'CreationDate': \"D:20060301164446+08'00'\", 'Creator': 'PScript5.dll Version 5.2', 'ModDate': \"D:20060301164446+08'00'\", 'Producer': 'Acrobat Distiller 6.0 (Windows)', 'Title': 'Microsoft Word - The 48 Laws of Power_BIZ.doc', 'file_path': 'C:\\\\Users\\\\User\\\\Downloads\\\\48lawsofpower.pdf', 'page': 11, 'source': 'C:\\\\Users\\\\User\\\\Downloads\\\\48lawsofpower.pdf', 'total_pages': 17}),\n",
       "  Document(page_content='WISDOM IN A NUTSHELL\\nThe 48 Laws Of Power\\nBy\\nRobert Greene\\nPenguin Books 2000\\nHardcover Edition ISBN 0-670-88146-5\\nPaperback Edition ISBN 0 14 02.8019 7\\n452 pages', metadata={'Author': 'che.roces', 'CreationDate': \"D:20060301164446+08'00'\", 'Creator': 'PScript5.dll Version 5.2', 'ModDate': \"D:20060301164446+08'00'\", 'Producer': 'Acrobat Distiller 6.0 (Windows)', 'Title': 'Microsoft Word - The 48 Laws of Power_BIZ.doc', 'file_path': 'C:\\\\Users\\\\User\\\\Downloads\\\\48lawsofpower.pdf', 'page': 1, 'source': 'C:\\\\Users\\\\User\\\\Downloads\\\\48lawsofpower.pdf', 'total_pages': 17}),\n",
       "  Document(page_content='The 48 Laws Of Power Page 10\\nIn the early thirteenth century, Muhammad the Shah of Khwarezm made the grave\\nmistake in offending a new tribal leader who was emerging in the east. His name was\\nGenghis Khan. Khan offered to share the Silk Route with Muhammad, sending\\nambassadors to forge a deal. After his ambassadors were beheaded, Genghis Khan\\ndeclared war. Eventually his forces seized the capital of the Shah’s empire, Samarkand.\\nMuhammad fled, and the Silk Route fell into the hands of Genghis Khan.\\nLearn to distinguish from opponent, sucker, and victim. The five difficult and sometimes\\ndangerous marks are: the arrogant and proud, the hopelessly insecure, the suspicious,\\nthe serpent with a long memory, and the plain, unassuming, unintelligent man.\\nWisdom in a nutshell:\\n• Measure up your opponent, but never rely on instinct. Do some research on concrete\\nfacts about that person’s character and history.\\n• Never trust appearances.\\n20. DO NOT COMMIT TO ANYONE.\\n• Observance of the Law\\nQueen Elizabeth I managed to avoid the trap of marriage and war, by dangling the\\npossibility of marriage to all who courted her. She forged alliances with the countries\\nthese suitors came from, all for the benefit of England. By keeping her independence\\nabove all, Elizabeth protected her power and made herself an object of worship.\\nWisdom in a nutshell:\\n• By refusing to commit, but allowing yourself to be courted, you become powerful\\nbecause you are ungraspable.\\n• As your reputation for independence grows, more people will desire you and want to\\nconquer you.\\n• Politely decline. You cannot allow yourself to feel obligated to anyone.\\n• Seek promises from both sides, so no matter what the outcome of an election or\\nbattle, your position is secure.\\n• Observe quarreling parties and stay neutral but supportive to both sides. Gain power\\nas a mediator.\\n• You may commit to one to prove you are capable of attachment, but be emotionally\\nuninvolved. Preserve the unspoken option of being able to leave anytime and reclaim\\nyour freedom. The friends you made while being courted will help you jump ship.\\n21. PLAY A SUCKER TO CATCH A SUCKER – SEEM DUMBER THAN\\nYOUR MARK.\\n• Observance of the Law\\nIn what was the biggest diamond scam of the century, prospectors Philip Arnold and\\nJohn Slack fooled the biggest financiers of the time, Asbury Harpending, Baron\\nRothschild, and William Ralston into investing their millions in a fake mine site. The two\\nmen played up their small town, scruffy image; convincing the sophisticated tycoons that\\nthey would easily be bought out for their discovery of the mines. In the end, after the legal\\npay-off was made to the two men, the investors realized the mine had been salted with\\nuncut gems by Arnold and Slack. Since all the business had been legal, and experts had\\ninspected the mines, there was no way to go after the two men.\\nWisdom in a nutshell:\\n• Intelligence is an important part of people’s vanity. Subliminally reassure your\\nopponent of his superiority.\\n• Playing naïve lets you see opportunities to deceive others.\\nwww.bizsum.com © 2001, 2002 Copyright BusinessSummaries.com', metadata={'Author': 'che.roces', 'CreationDate': \"D:20060301164446+08'00'\", 'Creator': 'PScript5.dll Version 5.2', 'ModDate': \"D:20060301164446+08'00'\", 'Producer': 'Acrobat Distiller 6.0 (Windows)', 'Title': 'Microsoft Word - The 48 Laws of Power_BIZ.doc', 'file_path': 'C:\\\\Users\\\\User\\\\Downloads\\\\48lawsofpower.pdf', 'page': 10, 'source': 'C:\\\\Users\\\\User\\\\Downloads\\\\48lawsofpower.pdf', 'total_pages': 17}),\n",
       "  Document(page_content='The 48 Laws Of Power Page 14\\nWisdom in a nutshell:\\n• Make people your puppets and give them options to let them feel they have control.\\nForce them to choose between the lesser of two evils, both of which serve your\\npurpose.\\n• Present options but color the one you prefer as the best solution.\\n• Force the resister into “choosing” to do what you want by appearing to advocate the\\nopposite.\\n• Alter the playing field so the only options available are the ones you offer.\\n• Shrinking options force people to buy in now or else the goods won’t be available\\ntomorrow.\\n• The weak man must be propelled into action through fear and terror.\\n• Involving your victim in your scheme with the threat of their exposure later will keep\\nthem tied to you. They cannot expose you because they will be found out as well.\\n• Use the horns of a dilemma: whichever way they choose, there is no escape.\\n32. PLAY TO PEOPLE’S FANTASIES.\\nObservance of the Law:\\nIn the 1700s, a mysterious stranger named George Psalmanazar came to fame with his\\nbooks and lectures on the language, culture and history of the island of Formosa (now\\nTaiwan). After his death, it was revealed that he was in fact a Frenchman with a rich\\nimagination who played on the British need for the exotic and strange. He had invented\\neverything he had professed to be an expert on, having capitalized on it with best-selling\\nbooks and having been a favorite guest at many royal dinners.\\nAbraham Lincoln created an image of himself as the homespun country lawyer with a\\nbeard. He played to the fantasy of the common man’s president.\\nWisdom in a nutshell:\\n• People need a fantasy to escape from the humdrum of everyday life. The more\\nvague and exotic, the more captivating.\\n• Promise a pot of gold and instant gratification, rather than a gradual improvement\\nthrough hard work.\\n• Keep your distance so the fantasy remains intact.\\n33. DISCOVER EACH MAN’S THUMBSCREW.\\nWisdom in a nutshell:\\n• Every person has a weakness or insecurity you can use to your advantage.\\n• Train yourself to probe for weaknesses in everyday conversation.\\n• Find the childhood need that went unfulfilled, supply it, and your victim will be unable\\nto resist you.\\n• People’s weaknesses are the opposite of the qualities they reveal to you. The shy\\nperson is actually dying for attention; a prude may be hiding a lascivious soul, etc.\\n• Find the weak link or the one person in a group who will bend under pressure.\\n• Feed on uncontrollable emotions or motive – paranoia, lust, greed, vanity, or hatred.\\n• When searching for suckers, always look for the unhappy, insecure and dissatisfied.\\n34. BE ROYAL IN YOUR OWN FASHION: ACT LIKE A KING TO BE\\nTREATED LIKE ONE.\\nWisdom in a nutshell:\\n• How you carry yourself reflects what you think of yourself. Exude confidence and the\\nfeeling you were destined for greatness.\\nwww.bizsum.com © 2001, 2002 Copyright BusinessSummaries.com', metadata={'Author': 'che.roces', 'CreationDate': \"D:20060301164446+08'00'\", 'Creator': 'PScript5.dll Version 5.2', 'ModDate': \"D:20060301164446+08'00'\", 'Producer': 'Acrobat Distiller 6.0 (Windows)', 'Title': 'Microsoft Word - The 48 Laws of Power_BIZ.doc', 'file_path': 'C:\\\\Users\\\\User\\\\Downloads\\\\48lawsofpower.pdf', 'page': 14, 'source': 'C:\\\\Users\\\\User\\\\Downloads\\\\48lawsofpower.pdf', 'total_pages': 17})]}"
      ]
     },
     "execution_count": 11,
     "metadata": {},
     "output_type": "execute_result"
    }
   ],
   "source": [
    "question = \"Can you give me an example from history where the enemy was crushed totally from the book?\"\n",
    "qa.combine_documents_chain.verbose = True\n",
    "qa.return_source_documents = True\n",
    "qa({\"query\":question,})"
   ]
  },
  {
   "cell_type": "code",
   "execution_count": 12,
   "id": "f497820b",
   "metadata": {},
   "outputs": [
    {
     "name": "stdout",
     "output_type": "stream",
     "text": [
      "\n",
      "\n",
      "\u001b[1m> Entering new StuffDocumentsChain chain...\u001b[0m\n",
      "\n",
      "\u001b[1m> Finished chain.\u001b[0m\n"
     ]
    },
    {
     "data": {
      "text/plain": [
       "{'query': 'Can you tell me the story of Queen Elizabeth I from this 48 laws of power book?',\n",
       " 'result': 'Queen Elizabeth I managed to avoid the trap of marriage and war, by dangling the possibility of marriage to all who courted her. She forged alliances with the countries these suitors came from, all for the benefit of England. By keeping her independence above all, Elizabeth protected her power and made herself an object of worship.',\n",
       " 'source_documents': [Document(page_content='WISDOM IN A NUTSHELL\\nThe 48 Laws Of Power\\nBy\\nRobert Greene\\nPenguin Books 2000\\nHardcover Edition ISBN 0-670-88146-5\\nPaperback Edition ISBN 0 14 02.8019 7\\n452 pages', metadata={'Author': 'che.roces', 'CreationDate': \"D:20060301164446+08'00'\", 'Creator': 'PScript5.dll Version 5.2', 'ModDate': \"D:20060301164446+08'00'\", 'Producer': 'Acrobat Distiller 6.0 (Windows)', 'Title': 'Microsoft Word - The 48 Laws of Power_BIZ.doc', 'file_path': 'C:\\\\Users\\\\User\\\\Downloads\\\\48lawsofpower.pdf', 'page': 1, 'source': 'C:\\\\Users\\\\User\\\\Downloads\\\\48lawsofpower.pdf', 'total_pages': 17}),\n",
       "  Document(page_content='The 48 Laws Of Power Page 16\\n• Angry people usually end up looking ridiculous.\\n• Nothing in the game of power is personal.\\n• An occasional outburst may be powerful, but use anger too often and it loses its\\npower.\\n40. DESPISE THE FREE LUNCH.\\nWisdom in a nutshell:\\n• By paying your own way you stay free of gratitude. What is offered for free normally\\nhas a hidden obligation.\\n• Generosity is a sign of power. Most powerful people spend freely and are not misers.\\n• Use money as a way to give pleasure to others and win them over.\\n41. AVOID STEPPING INTO A GREAT MAN’S SHOES.\\nWisdom in a nutshell:\\n• Choose a different path and personal style if you are the daughter or son of a great\\nperson. You will forever be in your predecessor’s shadow unless you find a way to\\nshine on your own.\\n• Only after the father figure has been done away with will there be space to establish\\na new order.\\n• Do not become complacent once you reach success and security. Prosperity makes\\nus lazy. Writers like Tennessee Williams and Fyodor Dostoyevsky preferred the\\nstruggle to security; the way poverty or emotional difficulties pushed them to create\\ngood work.\\n42. STRIKE THE SHEPHERD AND THE SHEEP WILL SCATTER.\\nWisdom in a nutshell:\\n• Within any group, trouble can be traced to a single source, the unhappy,\\nchronically unsatisfied one who stirs up dissension and infects the group.\\nRecognize troublemakers by their complaining nature. Separate him from the\\ngroup.\\n• In every group power is concentrated in the hands of one or two people. Human\\nnature shows people will orbit around a single strong personality.\\n43. WORK ON THE HEARTS AND MINDS OF OTHERS.\\nTransgression of the Law\\nMarie-Antoinette was put to death by guillotine in 1793, after the French monarchy was\\nended by the revolution. Not a single soul came to her defense. Marie-Antoinette brought\\nupon herself the hatred of all. Her jewelry, wardrobe, hair, and masked balls, her lavish\\nlifestyle had been more important to her than the needs of her people.\\nWisdom in a nutshell:\\n• Aim at the primary emotions: love, hate, and jealousy. Be alert to people’s\\nindividual psychologies and their basic emotional responses.\\n• Maintain a stable of writers, artists, or intellectuals who are very good at\\nappealing to people’s hearts and minds.\\n44. DISARM AND INFURIATE WITH THE MIRROR EFFECT.\\nWisdom in a nutshell:\\n• The neutralizing effect: Do what your enemies do, follow their actions and they\\nwill not see what you are up to. When you mirror them, if mocks and humiliates\\nthem. Mimicry infuriates.\\n• The Shadow effect: Shadow your opponents’ every move, gather information,\\nand gain insight to their routines and habits without them seeing you.\\nwww.bizsum.com © 2001, 2002 Copyright BusinessSummaries.com', metadata={'Author': 'che.roces', 'CreationDate': \"D:20060301164446+08'00'\", 'Creator': 'PScript5.dll Version 5.2', 'ModDate': \"D:20060301164446+08'00'\", 'Producer': 'Acrobat Distiller 6.0 (Windows)', 'Title': 'Microsoft Word - The 48 Laws of Power_BIZ.doc', 'file_path': 'C:\\\\Users\\\\User\\\\Downloads\\\\48lawsofpower.pdf', 'page': 16, 'source': 'C:\\\\Users\\\\User\\\\Downloads\\\\48lawsofpower.pdf', 'total_pages': 17}),\n",
       "  Document(page_content='The 48 Laws Of Power Page 10\\nIn the early thirteenth century, Muhammad the Shah of Khwarezm made the grave\\nmistake in offending a new tribal leader who was emerging in the east. His name was\\nGenghis Khan. Khan offered to share the Silk Route with Muhammad, sending\\nambassadors to forge a deal. After his ambassadors were beheaded, Genghis Khan\\ndeclared war. Eventually his forces seized the capital of the Shah’s empire, Samarkand.\\nMuhammad fled, and the Silk Route fell into the hands of Genghis Khan.\\nLearn to distinguish from opponent, sucker, and victim. The five difficult and sometimes\\ndangerous marks are: the arrogant and proud, the hopelessly insecure, the suspicious,\\nthe serpent with a long memory, and the plain, unassuming, unintelligent man.\\nWisdom in a nutshell:\\n• Measure up your opponent, but never rely on instinct. Do some research on concrete\\nfacts about that person’s character and history.\\n• Never trust appearances.\\n20. DO NOT COMMIT TO ANYONE.\\n• Observance of the Law\\nQueen Elizabeth I managed to avoid the trap of marriage and war, by dangling the\\npossibility of marriage to all who courted her. She forged alliances with the countries\\nthese suitors came from, all for the benefit of England. By keeping her independence\\nabove all, Elizabeth protected her power and made herself an object of worship.\\nWisdom in a nutshell:\\n• By refusing to commit, but allowing yourself to be courted, you become powerful\\nbecause you are ungraspable.\\n• As your reputation for independence grows, more people will desire you and want to\\nconquer you.\\n• Politely decline. You cannot allow yourself to feel obligated to anyone.\\n• Seek promises from both sides, so no matter what the outcome of an election or\\nbattle, your position is secure.\\n• Observe quarreling parties and stay neutral but supportive to both sides. Gain power\\nas a mediator.\\n• You may commit to one to prove you are capable of attachment, but be emotionally\\nuninvolved. Preserve the unspoken option of being able to leave anytime and reclaim\\nyour freedom. The friends you made while being courted will help you jump ship.\\n21. PLAY A SUCKER TO CATCH A SUCKER – SEEM DUMBER THAN\\nYOUR MARK.\\n• Observance of the Law\\nIn what was the biggest diamond scam of the century, prospectors Philip Arnold and\\nJohn Slack fooled the biggest financiers of the time, Asbury Harpending, Baron\\nRothschild, and William Ralston into investing their millions in a fake mine site. The two\\nmen played up their small town, scruffy image; convincing the sophisticated tycoons that\\nthey would easily be bought out for their discovery of the mines. In the end, after the legal\\npay-off was made to the two men, the investors realized the mine had been salted with\\nuncut gems by Arnold and Slack. Since all the business had been legal, and experts had\\ninspected the mines, there was no way to go after the two men.\\nWisdom in a nutshell:\\n• Intelligence is an important part of people’s vanity. Subliminally reassure your\\nopponent of his superiority.\\n• Playing naïve lets you see opportunities to deceive others.\\nwww.bizsum.com © 2001, 2002 Copyright BusinessSummaries.com', metadata={'Author': 'che.roces', 'CreationDate': \"D:20060301164446+08'00'\", 'Creator': 'PScript5.dll Version 5.2', 'ModDate': \"D:20060301164446+08'00'\", 'Producer': 'Acrobat Distiller 6.0 (Windows)', 'Title': 'Microsoft Word - The 48 Laws of Power_BIZ.doc', 'file_path': 'C:\\\\Users\\\\User\\\\Downloads\\\\48lawsofpower.pdf', 'page': 10, 'source': 'C:\\\\Users\\\\User\\\\Downloads\\\\48lawsofpower.pdf', 'total_pages': 17}),\n",
       "  Document(page_content='The 48 Laws Of Power Page 12\\nJulius Caesar always incorporated drama and theatrics in his speeches and daily\\nappearances. He was a great public showman, timing his entrances and exits,\\nsponsoring extravagant spectacles, gladiator shows and theatrical events. The masses\\nloved him, but his rivals feared him.\\nAurore Dupin Dudevant left her husband and family in the provinces to become a writer in\\nParis, something unheard of and almost impossible for a woman to do in 1831. For the\\npublication of her novel Indiana, she assumed the pseudonym George Sand. She\\ndressed in men’s breeches, smoked cigars, and expressed herself in conversation like a\\nman. She even carried on affairs with the most famous artists of Europe - Musset, Liszt,\\nand Chopin - living with freedom and independence unlike any other female writer before\\nher.\\nWisdom in a nutshell:\\n• Control your appearances and emotions. Play sincere, but not necessarily be\\nsincere.\\n• Create a memorable character. Do not limit yourself to the role society assigns to\\nyou.\\n26. KEEP YOUR HANDS CLEAN.\\nObservance of the Law:\\nCleopatra was always able to get people to do her bidding without them realizing she was\\nmanipulating them. She was able to charm Julius Caesar into restoring her to the throne\\nof Egypt, and playing her siblings against each other. Marc Antony was seduced by her,\\nand had her younger sister Arsinoe executed, ridding Cleopatra of any threats to her\\nplace as Queen.\\nWisdom in a nutshell:\\n• Conceal your mistakes. Your good name and reputation depends more on what you\\nconceal than on what you reveal.\\n• Always have a convenient scapegoat.\\n• Never do the dirty work yourself.\\n27. PLAY ON PEOPLE’S NEED TO BELIEVE TO CREATE A CULT-LIKE\\nFOLLOWING.\\nWisdom in a nutshell:\\n• Keep it simple; keep it vague. Create new words for vague concepts.\\n• Emphasize the visual and sensual over the intellectual.\\n• Borrow the forms of organized religion to structure the group. Create rituals. Use\\nnames and ranks and titles. Ask them to make sacrifices and give alms. Act like a\\nguru or a prophet.\\n• Disguise your source of income.\\n• Set up an us-versus-them dynamic. Keep followers united by identifying outsiders as\\na devious enemy.\\n• The tendency to doubt and reason is broken down when we join a group.\\n28. ENTER ACTION WITH BOLDNESS.\\nIvan the Terrible waited five years before executing his first major bold move. After years\\nof persecution by the Shuisky family, the poisoning of his mother Helena, and the\\nbanishment of his only friend Vorontsov, the thirteen year-old Ivan invited his rival Prince\\nAndrei Shuisky into his room. No one feared the young boy and the boyars often ridiculed\\nhim. When the guards were suddenly ordered to seize Prince Andrei and execute him, no\\none saw it coming. This one swift and bold act secured Ivan’s power for decades to\\ncome.\\nwww.bizsum.com © 2001, 2002 Copyright BusinessSummaries.com', metadata={'Author': 'che.roces', 'CreationDate': \"D:20060301164446+08'00'\", 'Creator': 'PScript5.dll Version 5.2', 'ModDate': \"D:20060301164446+08'00'\", 'Producer': 'Acrobat Distiller 6.0 (Windows)', 'Title': 'Microsoft Word - The 48 Laws of Power_BIZ.doc', 'file_path': 'C:\\\\Users\\\\User\\\\Downloads\\\\48lawsofpower.pdf', 'page': 12, 'source': 'C:\\\\Users\\\\User\\\\Downloads\\\\48lawsofpower.pdf', 'total_pages': 17})]}"
      ]
     },
     "execution_count": 12,
     "metadata": {},
     "output_type": "execute_result"
    }
   ],
   "source": [
    "question = \"Can you tell me the story of Queen Elizabeth I from this 48 laws of power book?\"\n",
    "qa.combine_documents_chain.verbose = True\n",
    "qa.return_source_documents = True\n",
    "qa({\"query\":question,})"
   ]
  },
  {
   "cell_type": "code",
   "execution_count": null,
   "id": "5e55cb96",
   "metadata": {},
   "outputs": [],
   "source": []
  }
 ],
 "metadata": {
  "kernelspec": {
   "display_name": "Python 3 (ipykernel)",
   "language": "python",
   "name": "python3"
  },
  "language_info": {
   "codemirror_mode": {
    "name": "ipython",
    "version": 3
   },
   "file_extension": ".py",
   "mimetype": "text/x-python",
   "name": "python",
   "nbconvert_exporter": "python",
   "pygments_lexer": "ipython3",
   "version": "3.10.9"
  }
 },
 "nbformat": 4,
 "nbformat_minor": 5
}
